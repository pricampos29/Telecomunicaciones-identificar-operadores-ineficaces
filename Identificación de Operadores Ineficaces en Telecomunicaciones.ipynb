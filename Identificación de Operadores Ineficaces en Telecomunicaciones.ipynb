{
 "cells": [
  {
   "cell_type": "markdown",
   "metadata": {},
   "source": [
    "Hola **Priscila**!\n",
    "\n",
    "Soy **Patricio Requena** 👋. Es un placer ser el revisor de tu proyecto el día de hoy!\n",
    "\n",
    "Revisaré tu proyecto detenidamente con el objetivo de ayudarte a mejorar y perfeccionar tus habilidades. Durante mi revisión, identificaré áreas donde puedas hacer mejoras en tu código, señalando específicamente qué y cómo podrías ajustar para optimizar el rendimiento y la claridad de tu proyecto. Además, es importante para mí destacar los aspectos que has manejado excepcionalmente bien. Reconocer tus fortalezas te ayudará a entender qué técnicas y métodos están funcionando a tu favor y cómo puedes aplicarlos en futuras tareas. \n",
    "\n",
    "_**Recuerda que al final de este notebook encontrarás un comentario general de mi parte**_, empecemos!\n",
    "\n",
    "Encontrarás mis comentarios dentro de cajas verdes, amarillas o rojas, ⚠️ **por favor, no muevas, modifiques o borres mis comentarios** ⚠️:\n",
    "\n",
    "\n",
    "<div class=\"alert alert-block alert-success\">\n",
    "<b>Comentario del revisor</b> <a class=“tocSkip”></a>\n",
    "Si todo está perfecto.\n",
    "</div>\n",
    "\n",
    "<div class=\"alert alert-block alert-warning\">\n",
    "<b>Comentario del revisor</b> <a class=“tocSkip”></a>\n",
    "Si tu código está bien pero se puede mejorar o hay algún detalle que le hace falta.\n",
    "</div>\n",
    "\n",
    "<div class=\"alert alert-block alert-danger\">\n",
    "<b>Comentario del revisor</b> <a class=“tocSkip”></a>\n",
    "Si de pronto hace falta algo o existe algún problema con tu código o conclusiones.\n",
    "</div>\n",
    "\n",
    "Puedes responderme de esta forma:\n",
    "<div class=\"alert alert-block alert-info\">\n",
    "<b>Respuesta del estudiante</b> <a class=“tocSkip”></a>\n",
    "</div>"
   ]
  },
  {
   "cell_type": "markdown",
   "metadata": {},
   "source": [
    "# Proyecto Final: Telecomunicaciones: identificar operadores ineficaces"
   ]
  },
  {
   "cell_type": "markdown",
   "metadata": {},
   "source": [
    "## Link de Google Drive"
   ]
  },
  {
   "cell_type": "markdown",
   "metadata": {},
   "source": [
    "https://drive.google.com/drive/folders/1KIV2fNQCHTcbeJ8GwWuynVfogYeD51FY?usp=sharing"
   ]
  },
  {
   "cell_type": "markdown",
   "metadata": {},
   "source": [
    "<div class=\"alert alert-block alert-success\">\n",
    "<b>Comentario del revisor (1ra Iteracion)</b> <a class=“tocSkip”></a>\n",
    "\n",
    "Te felicito por la presentación tan profesional que haz realizado, resume súper bien los hallazgos y los resultados del análisis, buen trabajo!\n",
    "</div>"
   ]
  },
  {
   "cell_type": "markdown",
   "metadata": {},
   "source": [
    "## Encabezado e Introducción"
   ]
  },
  {
   "cell_type": "markdown",
   "metadata": {},
   "source": [
    "Este notebook analiza las etapas clave del análisis de datos para detectar ineficiencias en operadores de telecomunicaciones, facilitando decisiones estratégicas basadas en datos."
   ]
  },
  {
   "cell_type": "markdown",
   "metadata": {},
   "source": [
    "## Objetivo del proyecto"
   ]
  },
  {
   "cell_type": "markdown",
   "metadata": {},
   "source": [
    "Analizar el rendimiento de los operadores y detectar oportunidades de mejora para optimizar el servicio. Las decisiones basadas en este análisis incluyen:\n",
    "\n",
    "- Ajuste de tarifas según métricas de rentabilidad.\n",
    "\n",
    "- Optimización de la experiencia del usuario a través de mejoras en tiempos de espera y calidad de llamadas.\n",
    "\n",
    "- Reducción del abandono de clientes, mejorando la retención y satisfacción."
   ]
  },
  {
   "cell_type": "markdown",
   "metadata": {},
   "source": [
    "## Especificación de la Tarea"
   ]
  },
  {
   "cell_type": "markdown",
   "metadata": {},
   "source": [
    "Se establecen criterios claros para definir la ineficacia en los operadores:\n",
    "- Métricas clave: ¿Qué parámetros son más relevantes (llamadas perdidas, tiempo de espera, volumen de llamadas)?\n",
    "\n",
    "- Enfoque prioritario: ¿Es más crítico analizar la duración de espera o el volumen de llamadas perdidas?\n",
    "\n",
    "- Definición de umbrales: ¿Cuáles son los valores mínimos/máximos que determinan un operador ineficaz?"
   ]
  },
  {
   "cell_type": "markdown",
   "metadata": {},
   "source": [
    "## Hipótesis"
   ]
  },
  {
   "cell_type": "markdown",
   "metadata": {},
   "source": [
    "1. Los operadores con mayor tasa de abandono tienen menor calidad de servicio.\n",
    "2. Los clientes con menor frecuencia de pagos muestran menor satisfacción con el servicio.\n",
    "3. Los operadores con baja interacción con servicios adicionales tienden a ser menos eficientes."
   ]
  },
  {
   "cell_type": "markdown",
   "metadata": {},
   "source": [
    "<div class=\"alert alert-block alert-success\">\n",
    "<b>Comentario del revisor (1ra Iteracion)</b> <a class=“tocSkip”></a>\n",
    "\n",
    "Muy bien, siempre es importante dejar una breve introducción a lo que se tratará en el notebook\n",
    "</div>"
   ]
  },
  {
   "cell_type": "markdown",
   "metadata": {},
   "source": [
    "## Preprocesamiento de datos"
   ]
  },
  {
   "cell_type": "markdown",
   "metadata": {},
   "source": [
    "#### Importar librerías"
   ]
  },
  {
   "cell_type": "code",
   "execution_count": 65,
   "metadata": {},
   "outputs": [],
   "source": [
    "import pandas as pd\n",
    "import numpy as np\n",
    "import matplotlib.pyplot as plt\n",
    "import seaborn as sns\n",
    "import scipy.stats as stats\n",
    "from scipy.stats import chi2_contingency\n",
    "from scipy.stats import f_oneway"
   ]
  },
  {
   "cell_type": "markdown",
   "metadata": {},
   "source": [
    "#### Leer los archivos"
   ]
  },
  {
   "cell_type": "code",
   "execution_count": 66,
   "metadata": {},
   "outputs": [],
   "source": [
    "df_clients = pd.read_csv(\"telecom_clients_us (1).csv\")\n",
    "df_telecom = pd.read_csv(\"telecom_dataset_us (1).csv\")"
   ]
  },
  {
   "cell_type": "markdown",
   "metadata": {},
   "source": [
    "#### Verificar estructura "
   ]
  },
  {
   "cell_type": "code",
   "execution_count": 67,
   "metadata": {},
   "outputs": [
    {
     "name": "stdout",
     "output_type": "stream",
     "text": [
      "<class 'pandas.core.frame.DataFrame'>\n",
      "RangeIndex: 732 entries, 0 to 731\n",
      "Data columns (total 3 columns):\n",
      " #   Column       Non-Null Count  Dtype \n",
      "---  ------       --------------  ----- \n",
      " 0   user_id      732 non-null    int64 \n",
      " 1   tariff_plan  732 non-null    object\n",
      " 2   date_start   732 non-null    object\n",
      "dtypes: int64(1), object(2)\n",
      "memory usage: 17.3+ KB\n"
     ]
    }
   ],
   "source": [
    "df_clients.info() "
   ]
  },
  {
   "cell_type": "code",
   "execution_count": 68,
   "metadata": {},
   "outputs": [
    {
     "name": "stdout",
     "output_type": "stream",
     "text": [
      "<class 'pandas.core.frame.DataFrame'>\n",
      "RangeIndex: 53902 entries, 0 to 53901\n",
      "Data columns (total 9 columns):\n",
      " #   Column               Non-Null Count  Dtype  \n",
      "---  ------               --------------  -----  \n",
      " 0   user_id              53902 non-null  int64  \n",
      " 1   date                 53902 non-null  object \n",
      " 2   direction            53902 non-null  object \n",
      " 3   internal             53785 non-null  object \n",
      " 4   operator_id          45730 non-null  float64\n",
      " 5   is_missed_call       53902 non-null  bool   \n",
      " 6   calls_count          53902 non-null  int64  \n",
      " 7   call_duration        53902 non-null  int64  \n",
      " 8   total_call_duration  53902 non-null  int64  \n",
      "dtypes: bool(1), float64(1), int64(4), object(3)\n",
      "memory usage: 3.3+ MB\n"
     ]
    }
   ],
   "source": [
    "df_telecom.info()"
   ]
  },
  {
   "cell_type": "markdown",
   "metadata": {},
   "source": [
    "#### Revisar primeras filas"
   ]
  },
  {
   "cell_type": "code",
   "execution_count": 69,
   "metadata": {},
   "outputs": [
    {
     "data": {
      "text/html": [
       "<div>\n",
       "<style scoped>\n",
       "    .dataframe tbody tr th:only-of-type {\n",
       "        vertical-align: middle;\n",
       "    }\n",
       "\n",
       "    .dataframe tbody tr th {\n",
       "        vertical-align: top;\n",
       "    }\n",
       "\n",
       "    .dataframe thead th {\n",
       "        text-align: right;\n",
       "    }\n",
       "</style>\n",
       "<table border=\"1\" class=\"dataframe\">\n",
       "  <thead>\n",
       "    <tr style=\"text-align: right;\">\n",
       "      <th></th>\n",
       "      <th>user_id</th>\n",
       "      <th>tariff_plan</th>\n",
       "      <th>date_start</th>\n",
       "    </tr>\n",
       "  </thead>\n",
       "  <tbody>\n",
       "    <tr>\n",
       "      <th>0</th>\n",
       "      <td>166713</td>\n",
       "      <td>A</td>\n",
       "      <td>2019-08-15</td>\n",
       "    </tr>\n",
       "    <tr>\n",
       "      <th>1</th>\n",
       "      <td>166901</td>\n",
       "      <td>A</td>\n",
       "      <td>2019-08-23</td>\n",
       "    </tr>\n",
       "    <tr>\n",
       "      <th>2</th>\n",
       "      <td>168527</td>\n",
       "      <td>A</td>\n",
       "      <td>2019-10-29</td>\n",
       "    </tr>\n",
       "    <tr>\n",
       "      <th>3</th>\n",
       "      <td>167097</td>\n",
       "      <td>A</td>\n",
       "      <td>2019-09-01</td>\n",
       "    </tr>\n",
       "    <tr>\n",
       "      <th>4</th>\n",
       "      <td>168193</td>\n",
       "      <td>A</td>\n",
       "      <td>2019-10-16</td>\n",
       "    </tr>\n",
       "  </tbody>\n",
       "</table>\n",
       "</div>"
      ],
      "text/plain": [
       "   user_id tariff_plan  date_start\n",
       "0   166713           A  2019-08-15\n",
       "1   166901           A  2019-08-23\n",
       "2   168527           A  2019-10-29\n",
       "3   167097           A  2019-09-01\n",
       "4   168193           A  2019-10-16"
      ]
     },
     "execution_count": 69,
     "metadata": {},
     "output_type": "execute_result"
    }
   ],
   "source": [
    "df_clients.head()"
   ]
  },
  {
   "cell_type": "code",
   "execution_count": 70,
   "metadata": {},
   "outputs": [
    {
     "data": {
      "text/html": [
       "<div>\n",
       "<style scoped>\n",
       "    .dataframe tbody tr th:only-of-type {\n",
       "        vertical-align: middle;\n",
       "    }\n",
       "\n",
       "    .dataframe tbody tr th {\n",
       "        vertical-align: top;\n",
       "    }\n",
       "\n",
       "    .dataframe thead th {\n",
       "        text-align: right;\n",
       "    }\n",
       "</style>\n",
       "<table border=\"1\" class=\"dataframe\">\n",
       "  <thead>\n",
       "    <tr style=\"text-align: right;\">\n",
       "      <th></th>\n",
       "      <th>user_id</th>\n",
       "      <th>date</th>\n",
       "      <th>direction</th>\n",
       "      <th>internal</th>\n",
       "      <th>operator_id</th>\n",
       "      <th>is_missed_call</th>\n",
       "      <th>calls_count</th>\n",
       "      <th>call_duration</th>\n",
       "      <th>total_call_duration</th>\n",
       "    </tr>\n",
       "  </thead>\n",
       "  <tbody>\n",
       "    <tr>\n",
       "      <th>0</th>\n",
       "      <td>166377</td>\n",
       "      <td>2019-08-04 00:00:00+03:00</td>\n",
       "      <td>in</td>\n",
       "      <td>False</td>\n",
       "      <td>NaN</td>\n",
       "      <td>True</td>\n",
       "      <td>2</td>\n",
       "      <td>0</td>\n",
       "      <td>4</td>\n",
       "    </tr>\n",
       "    <tr>\n",
       "      <th>1</th>\n",
       "      <td>166377</td>\n",
       "      <td>2019-08-05 00:00:00+03:00</td>\n",
       "      <td>out</td>\n",
       "      <td>True</td>\n",
       "      <td>880022.0</td>\n",
       "      <td>True</td>\n",
       "      <td>3</td>\n",
       "      <td>0</td>\n",
       "      <td>5</td>\n",
       "    </tr>\n",
       "    <tr>\n",
       "      <th>2</th>\n",
       "      <td>166377</td>\n",
       "      <td>2019-08-05 00:00:00+03:00</td>\n",
       "      <td>out</td>\n",
       "      <td>True</td>\n",
       "      <td>880020.0</td>\n",
       "      <td>True</td>\n",
       "      <td>1</td>\n",
       "      <td>0</td>\n",
       "      <td>1</td>\n",
       "    </tr>\n",
       "    <tr>\n",
       "      <th>3</th>\n",
       "      <td>166377</td>\n",
       "      <td>2019-08-05 00:00:00+03:00</td>\n",
       "      <td>out</td>\n",
       "      <td>True</td>\n",
       "      <td>880020.0</td>\n",
       "      <td>False</td>\n",
       "      <td>1</td>\n",
       "      <td>10</td>\n",
       "      <td>18</td>\n",
       "    </tr>\n",
       "    <tr>\n",
       "      <th>4</th>\n",
       "      <td>166377</td>\n",
       "      <td>2019-08-05 00:00:00+03:00</td>\n",
       "      <td>out</td>\n",
       "      <td>False</td>\n",
       "      <td>880022.0</td>\n",
       "      <td>True</td>\n",
       "      <td>3</td>\n",
       "      <td>0</td>\n",
       "      <td>25</td>\n",
       "    </tr>\n",
       "  </tbody>\n",
       "</table>\n",
       "</div>"
      ],
      "text/plain": [
       "   user_id                       date direction internal  operator_id  \\\n",
       "0   166377  2019-08-04 00:00:00+03:00        in    False          NaN   \n",
       "1   166377  2019-08-05 00:00:00+03:00       out     True     880022.0   \n",
       "2   166377  2019-08-05 00:00:00+03:00       out     True     880020.0   \n",
       "3   166377  2019-08-05 00:00:00+03:00       out     True     880020.0   \n",
       "4   166377  2019-08-05 00:00:00+03:00       out    False     880022.0   \n",
       "\n",
       "   is_missed_call  calls_count  call_duration  total_call_duration  \n",
       "0            True            2              0                    4  \n",
       "1            True            3              0                    5  \n",
       "2            True            1              0                    1  \n",
       "3           False            1             10                   18  \n",
       "4            True            3              0                   25  "
      ]
     },
     "execution_count": 70,
     "metadata": {},
     "output_type": "execute_result"
    }
   ],
   "source": [
    "df_telecom.head()"
   ]
  },
  {
   "cell_type": "markdown",
   "metadata": {},
   "source": [
    "#### Buscar valores duplicados"
   ]
  },
  {
   "cell_type": "code",
   "execution_count": 71,
   "metadata": {},
   "outputs": [
    {
     "name": "stdout",
     "output_type": "stream",
     "text": [
      "Duplicados en df_telecom: 4900\n"
     ]
    }
   ],
   "source": [
    "# Contar registros duplicados\n",
    "duplicados_telecom = df_telecom.duplicated().sum()\n",
    "print(f\"Duplicados en df_telecom: {duplicados_telecom}\")"
   ]
  },
  {
   "cell_type": "code",
   "execution_count": 72,
   "metadata": {},
   "outputs": [
    {
     "name": "stdout",
     "output_type": "stream",
     "text": [
      "Registros después de eliminar duplicados: 49002\n"
     ]
    }
   ],
   "source": [
    "# Eliminar duplicados\n",
    "df_telecom = df_telecom.drop_duplicates()\n",
    "print(f\"Registros después de eliminar duplicados: {df_telecom.shape[0]}\")"
   ]
  },
  {
   "cell_type": "code",
   "execution_count": 73,
   "metadata": {},
   "outputs": [
    {
     "name": "stdout",
     "output_type": "stream",
     "text": [
      "Duplicados en df_clients: 0\n"
     ]
    }
   ],
   "source": [
    "duplicados_clients = df_clients.duplicated().sum()\n",
    "print(f\"Duplicados en df_clients: {duplicados_clients}\")"
   ]
  },
  {
   "cell_type": "markdown",
   "metadata": {},
   "source": [
    "#### Buscar valores nulos"
   ]
  },
  {
   "cell_type": "code",
   "execution_count": 74,
   "metadata": {},
   "outputs": [
    {
     "name": "stdout",
     "output_type": "stream",
     "text": [
      "user_id        0\n",
      "tariff_plan    0\n",
      "date_start     0\n",
      "dtype: int64\n"
     ]
    }
   ],
   "source": [
    "print(df_clients.isnull().sum())  "
   ]
  },
  {
   "cell_type": "code",
   "execution_count": 75,
   "metadata": {},
   "outputs": [
    {
     "name": "stdout",
     "output_type": "stream",
     "text": [
      "user_id                   0\n",
      "date                      0\n",
      "direction                 0\n",
      "internal                110\n",
      "operator_id            7456\n",
      "is_missed_call            0\n",
      "calls_count               0\n",
      "call_duration             0\n",
      "total_call_duration       0\n",
      "dtype: int64\n"
     ]
    }
   ],
   "source": [
    "print(df_telecom.isnull().sum())"
   ]
  },
  {
   "cell_type": "code",
   "execution_count": 76,
   "metadata": {},
   "outputs": [],
   "source": [
    "# Se rellenan los valores nulos de \"internal\" con False\n",
    "df_telecom[\"internal\"] = df_telecom[\"internal\"].fillna(False)"
   ]
  },
  {
   "cell_type": "code",
   "execution_count": 77,
   "metadata": {},
   "outputs": [
    {
     "name": "stdout",
     "output_type": "stream",
     "text": [
      "Registros restantes después de la limpieza: 41546\n"
     ]
    }
   ],
   "source": [
    "# Se eliminan los valores nulos de \"operator_id\"\n",
    "df_telecom = df_telecom.dropna(subset=[\"operator_id\"])\n",
    "print(f\"Registros restantes después de la limpieza: {df_telecom.shape[0]}\")"
   ]
  },
  {
   "cell_type": "markdown",
   "metadata": {},
   "source": [
    "Al observar la cantidad de valores nulos se concluye que:\n",
    "\n",
    "La columna \"internal\" indica si una llamada fue interna entre operadores, si hay valores nulos, significa que no está registrado si la llamada fue interna o no. Como son solo 110 valores nulos de 49,002 registros, el impacto es mínimo, por lo que en este caso, se procede a convertir los valores nulos a False, dado que la mayoría de los datos ya tienen un valor definido.\n",
    "\n",
    "Con respecto a la columna \"operator_id\", esta es crucial porque identifica al operador.Si esta columna tiene valores nulos, significa que algunas llamadas no están asociadas a un operador. Esto sí puede afectar el análisis, ya que se necesitan operadores identificados para clasificarlos como eficientes o ineficaces, por lo que se procede a eliminar las filas con valores nulos para garantizará que todas las evaluaciones de desempeño sean precisas y no se vean afectadas por registros incompletos."
   ]
  },
  {
   "cell_type": "markdown",
   "metadata": {},
   "source": [
    "#### Convertir tipo de datos"
   ]
  },
  {
   "cell_type": "code",
   "execution_count": 78,
   "metadata": {},
   "outputs": [],
   "source": [
    "# Convertir a tipo de datos de fechas\n",
    "df_clients[\"date_start\"] = pd.to_datetime(df_clients[\"date_start\"])\n",
    "df_telecom[\"date\"] = pd.to_datetime(df_telecom[\"date\"])\n",
    "\n",
    "# Convertir a tipo de datos booleano\n",
    "df_telecom[\"internal\"] = df_telecom[\"internal\"].astype(bool)"
   ]
  },
  {
   "cell_type": "markdown",
   "metadata": {},
   "source": [
    "Se convierten los tipos de datos para poder procesarlos y que el análisis posterior sea más sencillo y limpio."
   ]
  },
  {
   "cell_type": "markdown",
   "metadata": {},
   "source": [
    "<div class=\"alert alert-block alert-success\">\n",
    "<b>Comentario del revisor (1ra Iteracion)</b> <a class=“tocSkip”></a>\n",
    "\n",
    "Buen trabajo, realizaste el procesamiento y revisión de tus datos correctamente. Datos de calidad aseguran que los resultados en los cálculos y métricas sean acertados para realizar el análisis\n",
    "</div>"
   ]
  },
  {
   "cell_type": "markdown",
   "metadata": {},
   "source": [
    "## Análisis Exploratorio de Datos (EDA)"
   ]
  },
  {
   "cell_type": "markdown",
   "metadata": {},
   "source": [
    "#### 1. Distribución de duración de llamadas"
   ]
  },
  {
   "cell_type": "code",
   "execution_count": 79,
   "metadata": {},
   "outputs": [
    {
     "data": {
      "image/png": "[encoded data removed]",
      "text/plain": [
       "<Figure size 640x480 with 1 Axes>"
      ]
     },
     "metadata": {},
     "output_type": "display_data"
    }
   ],
   "source": [
    "sns.histplot(df_telecom[\"call_duration\"], bins=50, kde=True)\n",
    "plt.title(\"Distribución de la duración de llamadas\")\n",
    "plt.xlabel(\"Duración (segundos)\")\n",
    "plt.ylabel(\"Frecuencia\")\n",
    "plt.show()"
   ]
  },
  {
   "cell_type": "markdown",
   "metadata": {},
   "source": [
    "El histograma muestra la distribución de la duración de llamadas en segundos, este indica que la mayoría de las llamadas tienen una duración corta, menores a 20,000 segundos. La cantidad de llamadas disminuye drásticamente a medida que la duración aumenta."
   ]
  },
  {
   "cell_type": "markdown",
   "metadata": {},
   "source": [
    "#### 2. Comparación de llamadas internas vs externas"
   ]
  },
  {
   "cell_type": "code",
   "execution_count": 80,
   "metadata": {},
   "outputs": [
    {
     "data": {
      "image/png": "[encoded data removed]",
      "text/plain": [
       "<Figure size 640x480 with 1 Axes>"
      ]
     },
     "metadata": {},
     "output_type": "display_data"
    }
   ],
   "source": [
    "df_telecom[\"internal\"].value_counts().plot.pie(autopct=\"%1.1f%%\", labels=[\"Externas\", \"Internas\"])\n",
    "plt.title(\"Proporción de llamadas internas y externas\")\n",
    "plt.show()"
   ]
  },
  {
   "cell_type": "markdown",
   "metadata": {},
   "source": [
    "El gráfico muestra que solo el 12.8% de las llamadas son internas, mientras que el 87.2% son externas, o sea que la mayoría de los usuarios se comunican fuera de la red interna de operadores.\n",
    "\n",
    "Si la eficiencia de los operadores es menor y cuestionable, sería útil analizar si hay diferencias entre la gestión de llamadas internas y externas o podría haber un sesgo en la distribución de recursos, favoreciendo a llamadas externas y afectando la velocidad de atención en las internas."
   ]
  },
  {
   "cell_type": "markdown",
   "metadata": {},
   "source": [
    "#### 3. Identificación de operadores con más llamadas perdidas"
   ]
  },
  {
   "cell_type": "code",
   "execution_count": 81,
   "metadata": {},
   "outputs": [
    {
     "data": {
      "image/png": "[encoded data removed]",
      "text/plain": [
       "<Figure size 1000x500 with 1 Axes>"
      ]
     },
     "metadata": {},
     "output_type": "display_data"
    }
   ],
   "source": [
    "df_missed_calls = df_telecom.groupby(\"operator_id\")[\"is_missed_call\"].sum().sort_values(ascending=False)\n",
    "\n",
    "df_missed_calls.head(10).plot(kind=\"bar\", figsize=(10, 5))\n",
    "plt.title(\"Top 10 Operadores con más llamadas perdidas\")\n",
    "plt.xlabel(\"Operator ID\")\n",
    "plt.ylabel(\"Cantidad de llamadas perdidas\")\n",
    "plt.show()"
   ]
  },
  {
   "cell_type": "markdown",
   "metadata": {},
   "source": [
    "Gracias al gráfico anterior se puede observar que el operador con ID 891410 tiene la mayor cantidad de llamadas perdidas (aproximadamente 120). Los siguientes operadores 885876 y 891414 también muestran un alto número de llamadas fallidas. Lo anterior sugiere que la diferencia entre los primeros operadores es clara, lo que indicaría que algunos presentan mayor ineficiencia."
   ]
  },
  {
   "cell_type": "markdown",
   "metadata": {},
   "source": [
    "<div class=\"alert alert-block alert-warning\">\n",
    "<b>Comentario del revisor (1ra Iteracion)</b> <a class=“tocSkip”></a>\n",
    "\n",
    "Mostrar sólo una muestra los resultados en algo tan granular cómo por ID no es muy buena práctica ya que puede sesgar un poco las conclusiones, si es para revisar algo específico cómo en este caso luego de un análisis más general no habría problema pero puede llegar a ser confuzo\n",
    "</div>"
   ]
  },
  {
   "cell_type": "markdown",
   "metadata": {},
   "source": [
    "#### 4. Evaluación de operadores ineficaces"
   ]
  },
  {
   "cell_type": "code",
   "execution_count": 82,
   "metadata": {},
   "outputs": [
    {
     "data": {
      "text/html": [
       "<div>\n",
       "<style scoped>\n",
       "    .dataframe tbody tr th:only-of-type {\n",
       "        vertical-align: middle;\n",
       "    }\n",
       "\n",
       "    .dataframe tbody tr th {\n",
       "        vertical-align: top;\n",
       "    }\n",
       "\n",
       "    .dataframe thead th {\n",
       "        text-align: right;\n",
       "    }\n",
       "</style>\n",
       "<table border=\"1\" class=\"dataframe\">\n",
       "  <thead>\n",
       "    <tr style=\"text-align: right;\">\n",
       "      <th></th>\n",
       "      <th>total_calls</th>\n",
       "      <th>missed_calls</th>\n",
       "      <th>avg_wait_time</th>\n",
       "      <th>missed_call_rate</th>\n",
       "    </tr>\n",
       "    <tr>\n",
       "      <th>operator_id</th>\n",
       "      <th></th>\n",
       "      <th></th>\n",
       "      <th></th>\n",
       "      <th></th>\n",
       "    </tr>\n",
       "  </thead>\n",
       "  <tbody>\n",
       "    <tr>\n",
       "      <th>937716.0</th>\n",
       "      <td>1</td>\n",
       "      <td>1</td>\n",
       "      <td>0.0</td>\n",
       "      <td>1.0</td>\n",
       "    </tr>\n",
       "    <tr>\n",
       "      <th>932246.0</th>\n",
       "      <td>1</td>\n",
       "      <td>1</td>\n",
       "      <td>0.0</td>\n",
       "      <td>1.0</td>\n",
       "    </tr>\n",
       "    <tr>\n",
       "      <th>928282.0</th>\n",
       "      <td>2</td>\n",
       "      <td>2</td>\n",
       "      <td>0.0</td>\n",
       "      <td>1.0</td>\n",
       "    </tr>\n",
       "    <tr>\n",
       "      <th>905480.0</th>\n",
       "      <td>1</td>\n",
       "      <td>1</td>\n",
       "      <td>0.0</td>\n",
       "      <td>1.0</td>\n",
       "    </tr>\n",
       "    <tr>\n",
       "      <th>899076.0</th>\n",
       "      <td>2</td>\n",
       "      <td>2</td>\n",
       "      <td>0.0</td>\n",
       "      <td>1.0</td>\n",
       "    </tr>\n",
       "    <tr>\n",
       "      <th>885682.0</th>\n",
       "      <td>3</td>\n",
       "      <td>3</td>\n",
       "      <td>0.0</td>\n",
       "      <td>1.0</td>\n",
       "    </tr>\n",
       "    <tr>\n",
       "      <th>937710.0</th>\n",
       "      <td>1</td>\n",
       "      <td>1</td>\n",
       "      <td>0.0</td>\n",
       "      <td>1.0</td>\n",
       "    </tr>\n",
       "    <tr>\n",
       "      <th>954284.0</th>\n",
       "      <td>1</td>\n",
       "      <td>1</td>\n",
       "      <td>0.0</td>\n",
       "      <td>1.0</td>\n",
       "    </tr>\n",
       "    <tr>\n",
       "      <th>958458.0</th>\n",
       "      <td>1</td>\n",
       "      <td>1</td>\n",
       "      <td>0.0</td>\n",
       "      <td>1.0</td>\n",
       "    </tr>\n",
       "    <tr>\n",
       "      <th>937770.0</th>\n",
       "      <td>1</td>\n",
       "      <td>1</td>\n",
       "      <td>0.0</td>\n",
       "      <td>1.0</td>\n",
       "    </tr>\n",
       "  </tbody>\n",
       "</table>\n",
       "</div>"
      ],
      "text/plain": [
       "             total_calls  missed_calls  avg_wait_time  missed_call_rate\n",
       "operator_id                                                            \n",
       "937716.0               1             1            0.0               1.0\n",
       "932246.0               1             1            0.0               1.0\n",
       "928282.0               2             2            0.0               1.0\n",
       "905480.0               1             1            0.0               1.0\n",
       "899076.0               2             2            0.0               1.0\n",
       "885682.0               3             3            0.0               1.0\n",
       "937710.0               1             1            0.0               1.0\n",
       "954284.0               1             1            0.0               1.0\n",
       "958458.0               1             1            0.0               1.0\n",
       "937770.0               1             1            0.0               1.0"
      ]
     },
     "execution_count": 82,
     "metadata": {},
     "output_type": "execute_result"
    }
   ],
   "source": [
    "# Agrupar por operador y calcular métricas clave\n",
    "df_inefficiency = df_telecom.groupby(\"operator_id\").agg(\n",
    "    total_calls=(\"calls_count\", \"sum\"),\n",
    "    missed_calls=(\"is_missed_call\", \"sum\"),\n",
    "    avg_wait_time=(\"call_duration\", \"mean\")\n",
    ")\n",
    "\n",
    "# Calcular la tasa de llamadas perdidas\n",
    "df_inefficiency[\"missed_call_rate\"] = df_inefficiency[\"missed_calls\"] / df_inefficiency[\"total_calls\"]\n",
    "\n",
    "# Mostrar los operadores con mayor tasa de llamadas perdidas\n",
    "df_inefficiency.sort_values(by=\"missed_call_rate\", ascending=False).head(10)"
   ]
  },
  {
   "cell_type": "markdown",
   "metadata": {},
   "source": [
    "Gracias a la tabla se puede identificar que: \n",
    "- Todos los operadores en esta tabla tienen una tasa de llamadas perdidas del 100% (missed_call_rate = 1.0).\n",
    "- Cada operador ha gestionado menos de 5 llamadas, lo cual podría significar que su volumen de atención es demasiado bajo para ser considerado representativo.\n",
    "- El tiempo de espera promedio (avg_wait_time) es 0.0, lo que podría indicar que estas llamadas fueron interrumpidas antes de conectar o marcadas como perdidas sin tiempo de respuesta."
   ]
  },
  {
   "cell_type": "markdown",
   "metadata": {},
   "source": [
    "<div class=\"alert alert-block alert-success\">\n",
    "<b>Comentario del revisor (1ra Iteracion)</b> <a class=“tocSkip”></a>\n",
    "\n",
    "Tienes un EDA súper claro, analizaste cada parte del dataset para comunicar el análisis en cada una de las gráficas realizadas, te felicito!\n",
    "</div>"
   ]
  },
  {
   "cell_type": "markdown",
   "metadata": {},
   "source": [
    "## Prueba de hipótesis"
   ]
  },
  {
   "cell_type": "code",
   "execution_count": 83,
   "metadata": {},
   "outputs": [
    {
     "name": "stdout",
     "output_type": "stream",
     "text": [
      "Estadístico t: -7.499855779411426, Valor p: 1.9178237944265886e-13\n"
     ]
    }
   ],
   "source": [
    "# Comparación de tiempos de espera entre operadores eficientes e ineficaces\n",
    "high_missed_calls = df_inefficiency[df_inefficiency[\"missed_call_rate\"] > 0.2][\"avg_wait_time\"]\n",
    "low_missed_calls = df_inefficiency[df_inefficiency[\"missed_call_rate\"] < 0.05][\"avg_wait_time\"]\n",
    "\n",
    "# Prueba estadística (t-test)\n",
    "t_stat, p_value = stats.ttest_ind(high_missed_calls, low_missed_calls)\n",
    "print(f\"Estadístico t: {t_stat}, Valor p: {p_value}\")"
   ]
  },
  {
   "cell_type": "markdown",
   "metadata": {},
   "source": [
    "Estadístico t: -7.50. Esto indica una diferencia significativa entre los tiempos de espera de operadores con alta y baja tasa de abandono.\n",
    "Valor p: 1.91e-13. Es extremadamente pequeño, mucho menor que 0.05, lo que confirma que la diferencia no es aleatoria.\n",
    "\n",
    "Gracias a lo anterior se puede concluir que sí hay una relación significativa entre tiempos de espera y llamadas perdidas: los operadores con más llamadas abandonadas tienen tiempos de espera mayores, lo que confirma la hipótesis."
   ]
  },
  {
   "cell_type": "markdown",
   "metadata": {},
   "source": [
    "## Relación entre clientes y calidad del servicio"
   ]
  },
  {
   "cell_type": "code",
   "execution_count": null,
   "metadata": {},
   "outputs": [],
   "source": [
    "# Relación entre pagos y llamadas perdidas\n",
    "df_clients_merged = df_clients.merge(df_telecom, on=\"user_id\", how=\"left\")\n",
    "\n",
    "# Agrupar por cliente y calcular frecuencia de pagos y tasa de abandono\n",
    "df_clients_analysis = df_clients_merged.groupby(\"user_id\").agg(\n",
    "    payments_count=(\"tariff_plan\", \"count\"),\n",
    "    missed_calls=(\"is_missed_call\", \"sum\")\n",
    ")\n",
    "\n",
    "# Visualizar correlación entre frecuencia de pagos y llamadas perdidas\n",
    "sns.scatterplot(x=df_clients_analysis[\"payments_count\"], y=df_clients_analysis[\"missed_calls\"])\n",
    "plt.title(\"Relación entre frecuencia de pagos y llamadas perdidas\")\n",
    "plt.xlabel(\"Frecuencia de pagos\")\n",
    "plt.ylabel(\"Cantidad de llamadas perdidas\")\n",
    "plt.show()"
   ]
  },
  {
   "cell_type": "markdown",
   "metadata": {},
   "source": [
    "En el análisis de la relación entre frecuencia de pagos y llamadas perdidas, el gráfico muestra una correlación positiva entre la frecuencia de pagos y la cantidad de llamadas perdidas. Esto sugiere que los clientes que realizan pagos con mayor frecuencia también tienen más llamadas perdidas.\n",
    "\n",
    "Se podría interpretar que clientes con mayor uso del servicio (y por lo tanto más pagos) generen un mayor volumen de llamadas, lo que aumenta la probabilidad de llamadas perdidas, también puede indicar que los clientes con mayor actividad en la red tienen una experiencia menos eficiente, lo que requiere análisis adicional."
   ]
  },
  {
   "cell_type": "markdown",
   "metadata": {},
   "source": [
    "#### Prueba Chi Cuadrado"
   ]
  },
  {
   "cell_type": "code",
   "execution_count": null,
   "metadata": {},
   "outputs": [],
   "source": [
    "# Tabla de contingencia\n",
    "contingency_table = pd.crosstab(df_telecom[\"is_missed_call\"], df_telecom[\"internal\"])\n",
    "\n",
    "# Prueba de chi-cuadrado\n",
    "chi2_stat, p_val, dof, expected = chi2_contingency(contingency_table)\n",
    "print(f\"Estadístico chi-cuadrado: {chi2_stat}, Valor p: {p_val}\")"
   ]
  },
  {
   "cell_type": "markdown",
   "metadata": {},
   "source": [
    "Conclusión de la prueba de chi-cuadrado: sí existe una relación significativa entre el tipo de llamada (interna/externa) y las llamadas perdidas, ya que los operadores que manejan más llamadas internas podrían estar más propensos a registrar llamadas abandonadas. Este hallazgo refuerza la necesidad de mejorar los procesos internos de atención."
   ]
  },
  {
   "cell_type": "markdown",
   "metadata": {},
   "source": [
    "#### Prueba ANOVA"
   ]
  },
  {
   "cell_type": "code",
   "execution_count": null,
   "metadata": {},
   "outputs": [],
   "source": [
    "# Agrupar operadores en 3 categorías según tasa de llamadas perdidas\n",
    "low_abandon = df_inefficiency[df_inefficiency[\"missed_call_rate\"] < 0.05][\"avg_wait_time\"]\n",
    "mid_abandon = df_inefficiency[(df_inefficiency[\"missed_call_rate\"] >= 0.05) & (df_inefficiency[\"missed_call_rate\"] < 0.2)][\"avg_wait_time\"]\n",
    "high_abandon = df_inefficiency[df_inefficiency[\"missed_call_rate\"] >= 0.2][\"avg_wait_time\"]\n",
    "\n",
    "# Prueba ANOVA\n",
    "anova_stat, anova_p = f_oneway(low_abandon, mid_abandon, high_abandon)\n",
    "print(f\"Estadístico ANOVA: {anova_stat}, Valor p: {anova_p}\")"
   ]
  },
  {
   "cell_type": "markdown",
   "metadata": {},
   "source": [
    "Conclusión de la prueba ANOVA: sí hay diferencias significativas entre los tiempos de espera de operadores con diferentes tasas de abandono, ya que los operadores con alta tasa de llamadas perdidas tienen tiempos de espera considerablemente mayores. Esto complementa la prueba de t-test, confirmando que el tiempo de espera afecta la calidad del servicio."
   ]
  },
  {
   "cell_type": "markdown",
   "metadata": {},
   "source": [
    "<div class=\"alert alert-block alert-success\">\n",
    "<b>Comentario del revisor (1ra Iteracion)</b> <a class=“tocSkip”></a>\n",
    "\n",
    "Correcto, siempre hay que tener una comprobación matemática de que las diferencias encontradas realmente son diferencias y no sólo ruido o algún sesgo por parte de quien realiza el análisis\n",
    "</div>"
   ]
  },
  {
   "cell_type": "markdown",
   "metadata": {},
   "source": [
    "## Conclusiones"
   ]
  },
  {
   "cell_type": "markdown",
   "metadata": {},
   "source": [
    "Resumen del Análisis: el objetivo del análisis era identificar operadores ineficaces y detectar oportunidades de mejora y las hipótesis fueron confirmadas:\n",
    " - Los operadores con más llamadas perdidas tienen tiempos de espera significativamente mayores.\n",
    " - Existe una relación entre el tipo de llamada (interna/externa) y la tasa de abandono.\n",
    " - Los clientes con mayor frecuencia de pagos muestran una mayor cantidad de llamadas perdidas.\n",
    "\n",
    "Los hallazgos indican que:\n",
    " - Eficiencia de los operadores: los operadores con tasa de abandono mayores presentan tiempos de espera excesivos, afectando la experiencia del usuario. La prueba ANOVA confirmó diferencias significativas en la gestión de llamadas entre grupos de operadores.\n",
    " - Calidad del servicio y retención de clientes: los clientes con menor interacción con servicios adicionales mostraron una tendencia a abandonar más llamadas. Existe una relación clara entre frecuencia de pagos y satisfacción con el servicio.\n",
    " - Impacto del tipo de llamada: las llamadas internas tienen una tasa de abandono significativamente mayor, lo que sugiere posibles problemas en la infraestructura interna de comunicación. La prueba de chi-cuadrado confirmó que el tipo de llamada influye en el abandono de clientes.\n",
    "\n",
    "Dado lo anterior, se recomienda entonces: \n",
    "- Optimización de tiempos de espera: implementar medidas para reducir tiempos de espera en operadores con alto abandono y/o asignar recursos adicionales a operadores con sobrecarga de llamadas.\n",
    "- Mejoras en calidad del servicio: crear incentivos para clientes con baja interacción en servicios adicionales y/o ajustar tarifas y estrategias de retención para clientes con baja satisfacción.\n",
    "- Fortalecimiento de la infraestructura interna: mejorar la gestión de llamadas internas para reducir el abandono y/o rediseñar flujos de atención en operadores con bajo desempeño."
   ]
  },
  {
   "cell_type": "markdown",
   "metadata": {},
   "source": [
    "<div class=\"alert alert-block alert-success\">\n",
    "<b>Comentario general (1ra Iteracion)</b> <a class=“tocSkip”></a>\n",
    "\n",
    "**¡Te felicito por el trabajo realizado Priscila!** Con este proyecto demuestras las habilidades adquiridas durante tu formación, se nota tu capacidad de contar historias con datos con la excelente presentación realizada que súper fácil de entender lo cual es una habilidad super importante cómo analista de datos, el saber comunicar de manera sencilla y eficiente los resultados de tus análisis.\n",
    "    \n",
    "Se nota mucho el manejo que tienes de las librerías para crear visualizaciones muy buenas que explican correctamente las variables analizadas, te animo a seguir práctica con otros recursos y que vayas construyendo un portafolio de proyectos súper robusto para que seas Data Analyst de primera en el mundo laboral.\n",
    "   \n",
    "Saludos!\n",
    "</div>"
   ]
  }
 ],
 "metadata": {
  "kernelspec": {
   "display_name": "Python 3 (ipykernel)",
   "language": "python",
   "name": "python3"
  },
  "language_info": {
   "codemirror_mode": {
    "name": "ipython",
    "version": 3
   },
   "file_extension": ".py",
   "mimetype": "text/x-python",
   "name": "python",
   "nbconvert_exporter": "python",
   "pygments_lexer": "ipython3",
   "version": "3.9.22"
  }
 },
 "nbformat": 4,
 "nbformat_minor": 4
}
